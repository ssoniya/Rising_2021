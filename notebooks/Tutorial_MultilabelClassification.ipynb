{
  "nbformat": 4,
  "nbformat_minor": 0,
  "metadata": {
    "colab": {
      "name": "Ex3_Demo_MultilabelClassification",
      "provenance": [],
      "collapsed_sections": []
    },
    "kernelspec": {
      "name": "python3",
      "display_name": "Python 3"
    }
  },
  "cells": [
    {
      "cell_type": "markdown",
      "metadata": {
        "id": "IWWjmdqxEvor"
      },
      "source": [
        "# MULTILABEL CLASSIFICATION"
      ]
    },
    {
      "cell_type": "markdown",
      "metadata": {
        "id": "E2LPQ9vOCLHv"
      },
      "source": [
        "# Demo\n"
      ]
    },
    {
      "cell_type": "markdown",
      "metadata": {
        "id": "UnYiy9440FqP"
      },
      "source": [
        "## Problem Statement\n",
        "**Description :** Multilabel Classification\n",
        "\n",
        "**Learnings :** Create basic Sequential Model\n",
        "              + train from scratch\n",
        "\n",
        "**Demo :** Classify created dataset into more than 1 categories- AbdomenCT, BreastMRI, ChestCT, Abnormal\n",
        "\n",
        "      Input:- Xray Image\n",
        "\n",
        "      Output:- array with 4 values\n",
        "\n",
        "**Dataset :** Dataset Created from Ex1 & Ex2\n",
        "           link - https://www.kaggle.com/paultimothymooney/chest-xray-pneumonia\n",
        "            https://www.kaggle.com/andrewmvd/medical-mnist\n"
      ]
    },
    {
      "cell_type": "markdown",
      "metadata": {
        "id": "IMD9_tSACOHH"
      },
      "source": [
        "# House Keeping\n"
      ]
    },
    {
      "cell_type": "code",
      "metadata": {
        "id": "dzTrlvWVz3MN",
        "colab": {
          "base_uri": "https://localhost:8080/"
        },
        "outputId": "df65a5fa-f208-416b-cad6-cfab329f9db3"
      },
      "source": [
        "from google.colab import drive\n",
        "drive.mount('/content/gdrive')"
      ],
      "execution_count": null,
      "outputs": [
        {
          "output_type": "stream",
          "text": [
            "Mounted at /content/gdrive\n"
          ],
          "name": "stdout"
        }
      ]
    },
    {
      "cell_type": "code",
      "metadata": {
        "id": "-lRx21ErwcMS",
        "colab": {
          "base_uri": "https://localhost:8080/"
        },
        "outputId": "c8d9c3f6-0494-4ff1-c238-e442792825a5"
      },
      "source": [
        "# IMPORT LIBRARIES\n",
        "# IMPORT LIBRARIES\n",
        "import os\n",
        "import numpy as np\n",
        "import pandas as pd\n",
        "\n",
        "import tensorflow as tf\n",
        "from tensorflow.keras.models import Sequential\n",
        "from tensorflow.keras.layers import Dense, Dropout, Flatten\n",
        "from tensorflow.keras.layers import Conv2D, MaxPooling2D\n",
        "from tensorflow.keras.utils import to_categorical\n",
        "from tensorflow.keras.preprocessing import image\n",
        "import matplotlib.pyplot as plt\n",
        "from sklearn.model_selection import train_test_split\n",
        "from tqdm import tqdm\n",
        "\n",
        "root_path = '/content/gdrive/MyDrive/Colab Notebooks/Rising_2021'\n",
        "os.chdir(root_path)\n",
        "cwd_path = os.getcwd()\n",
        "\n",
        "# DEFINE TRAIN-VAL-TEST DATA DIRECTORIES\n",
        "input_path = os.path.join(root_path, \"datasets\", \"multilabel_dataset\")\n",
        "train_path = os.path.join(input_path, \"train\")\n",
        "val_path = os.path.join(input_path, \"val\")\n",
        "test_path = os.path.join(input_path, \"test\")\n",
        "\n",
        "print(train_path)\n",
        "print(val_path)\n",
        "print(test_path)\n",
        "print(root_path)\n",
        "\n"
      ],
      "execution_count": null,
      "outputs": [
        {
          "output_type": "stream",
          "text": [
            "/content/gdrive/MyDrive/Colab Notebooks/Rising_2021/datasets/multilabel_dataset/train\n",
            "/content/gdrive/MyDrive/Colab Notebooks/Rising_2021/datasets/multilabel_dataset/val\n",
            "/content/gdrive/MyDrive/Colab Notebooks/Rising_2021/datasets/multilabel_dataset/test\n",
            "/content/gdrive/MyDrive/Colab Notebooks/Rising_2021\n"
          ],
          "name": "stdout"
        }
      ]
    },
    {
      "cell_type": "code",
      "metadata": {
        "id": "xU3l8sU_0xiR"
      },
      "source": [
        "# DEFINE PARAMETERS\n",
        "BATCH_SIZE = 16\n",
        "IMG_HEIGHT = 128\n",
        "IMG_WIDTH = 128\n",
        "NEPOCHS = 8\n",
        "NLABELS = 4\n"
      ],
      "execution_count": null,
      "outputs": []
    },
    {
      "cell_type": "markdown",
      "metadata": {
        "id": "pdqRthr-oo5M"
      },
      "source": [
        "# Data Processing\n"
      ]
    },
    {
      "cell_type": "code",
      "metadata": {
        "colab": {
          "base_uri": "https://localhost:8080/"
        },
        "id": "fMTKSjm601ZM",
        "outputId": "cea4bea2-3c20-403c-cd58-71074fa93ba3"
      },
      "source": [
        "# PREPARE TRAIN TEST VAL DATA\n",
        "train = pd.read_csv(os.path.join(train_path, 'train_labels.csv'))\n",
        "test = pd.read_csv(os.path.join(test_path, 'test_labels.csv'))\n",
        "val = pd.read_csv(os.path.join(val_path, 'val_labels.csv'))\n",
        "\n",
        "train_image = []\n",
        "for i in tqdm(range(train.shape[0])):\n",
        "  img = image.load_img(os.path.join(train_path, train['Image'][i]), target_size=(IMG_WIDTH, IMG_HEIGHT, 3))\n",
        "  img = image.img_to_array(img)\n",
        "  img = img/255\n",
        "  train_image.append(img)\n",
        "train_X = np.array(train_image)\n",
        "train_Y = np.array(train.drop(['Image'], axis=1))\n",
        "print(\"Train Samples- Input shape:\", train_X.shape, \"Labels shape:\", train_Y.shape)\n",
        "\n",
        "test_image = []\n",
        "for i in tqdm(range(test.shape[0])):\n",
        "    img = image.load_img(os.path.join(test_path, test['Image'][i]), target_size=(IMG_WIDTH, IMG_HEIGHT, 3))\n",
        "    img = image.img_to_array(img)\n",
        "    img = img/255\n",
        "    test_image.append(img)\n",
        "test_X = np.array(test_image)\n",
        "test_Y = np.array(test.drop(['Image'], axis=1))\n",
        "print(\"Test Samples- Input shape:\", test_X.shape, \"Labels shape:\", test_Y.shape)\n",
        "\n",
        "val_image = []\n",
        "for i in tqdm(range(val.shape[0])):\n",
        "    img = image.load_img(os.path.join(val_path, val['Image'][i]), target_size=(IMG_WIDTH, IMG_HEIGHT, 3))\n",
        "    img = image.img_to_array(img)\n",
        "    img = img/255\n",
        "    val_image.append(img)\n",
        "val_X = np.array(val_image)\n",
        "val_Y = np.array(val.drop(['Image'], axis=1))\n",
        "print(\"Val Samples- Input shape:\", val_X.shape, \"Labels shape:\", val_Y.shape)"
      ],
      "execution_count": null,
      "outputs": [
        {
          "output_type": "stream",
          "text": [
            "100%|██████████| 300/300 [01:34<00:00,  3.16it/s]\n",
            "  0%|          | 0/60 [00:00<?, ?it/s]"
          ],
          "name": "stderr"
        },
        {
          "output_type": "stream",
          "text": [
            "Train Samples- Input shape: (300, 128, 128, 3) Labels shape: (300, 4)\n"
          ],
          "name": "stdout"
        },
        {
          "output_type": "stream",
          "text": [
            "100%|██████████| 60/60 [00:18<00:00,  3.27it/s]\n",
            "  0%|          | 0/36 [00:00<?, ?it/s]"
          ],
          "name": "stderr"
        },
        {
          "output_type": "stream",
          "text": [
            "Test Samples- Input shape: (60, 128, 128, 3) Labels shape: (60, 4)\n"
          ],
          "name": "stdout"
        },
        {
          "output_type": "stream",
          "text": [
            "100%|██████████| 36/36 [00:09<00:00,  3.87it/s]"
          ],
          "name": "stderr"
        },
        {
          "output_type": "stream",
          "text": [
            "Val Samples- Input shape: (36, 128, 128, 3) Labels shape: (36, 4)\n"
          ],
          "name": "stdout"
        },
        {
          "output_type": "stream",
          "text": [
            "\n"
          ],
          "name": "stderr"
        }
      ]
    },
    {
      "cell_type": "markdown",
      "metadata": {
        "id": "FiA8LNp8os1X"
      },
      "source": [
        "# Implement Model\n"
      ]
    },
    {
      "cell_type": "code",
      "metadata": {
        "id": "QSuEYZ1K092O"
      },
      "source": [
        "# DEFINE MODEL\n",
        "def get_model():\n",
        "    model = Sequential()\n",
        "    model.add(Conv2D(filters=16, kernel_size=(5, 5), activation=\"relu\", input_shape=(IMG_WIDTH, IMG_HEIGHT,3)))\n",
        "    model.add(MaxPooling2D(pool_size=(2, 2)))\n",
        "    model.add(Dropout(0.25))\n",
        "    model.add(Conv2D(filters=32, kernel_size=(5, 5), activation='relu'))\n",
        "    model.add(MaxPooling2D(pool_size=(2, 2)))\n",
        "    model.add(Dropout(0.25))\n",
        "    model.add(Conv2D(filters=64, kernel_size=(5, 5), activation=\"relu\"))\n",
        "    model.add(MaxPooling2D(pool_size=(2, 2)))\n",
        "    model.add(Conv2D(filters=64, kernel_size=(5, 5), activation='relu'))\n",
        "    model.add(MaxPooling2D(pool_size=(2, 2)))\n",
        "    model.add(Flatten())\n",
        "    model.add(Dense(128, activation='relu'))\n",
        "    model.add(Dense(64, activation='relu'))\n",
        "    model.add(Dense(NLABELS, activation='sigmoid'))\n",
        "    return model\n",
        "\n",
        "model = get_model()\n",
        "model.compile(optimizer='adam', loss='binary_crossentropy', metrics=['accuracy'])\n"
      ],
      "execution_count": null,
      "outputs": []
    },
    {
      "cell_type": "markdown",
      "metadata": {
        "id": "7J_lOVaW_-z2"
      },
      "source": [
        "## Train Model"
      ]
    },
    {
      "cell_type": "code",
      "metadata": {
        "colab": {
          "base_uri": "https://localhost:8080/"
        },
        "id": "LrJxC7uD0_jm",
        "outputId": "f73dd3e5-e69f-4790-d876-e80ecaabb13f"
      },
      "source": [
        "H = model.fit(train_X, train_Y, epochs=NEPOCHS, validation_data=(val_X, val_Y),\n",
        "              batch_size=BATCH_SIZE)\n",
        "\n"
      ],
      "execution_count": null,
      "outputs": [
        {
          "output_type": "stream",
          "text": [
            "Epoch 1/8\n",
            "19/19 [==============================] - 9s 427ms/step - loss: 0.5459 - accuracy: 0.5570 - val_loss: 0.3969 - val_accuracy: 0.7222\n",
            "Epoch 2/8\n",
            "19/19 [==============================] - 8s 402ms/step - loss: 0.3345 - accuracy: 0.8610 - val_loss: 0.2769 - val_accuracy: 0.7222\n",
            "Epoch 3/8\n",
            "19/19 [==============================] - 7s 382ms/step - loss: 0.2046 - accuracy: 0.8997 - val_loss: 0.1338 - val_accuracy: 1.0000\n",
            "Epoch 4/8\n",
            "19/19 [==============================] - 7s 380ms/step - loss: 0.1724 - accuracy: 0.9776 - val_loss: 0.0918 - val_accuracy: 1.0000\n",
            "Epoch 5/8\n",
            "19/19 [==============================] - 7s 377ms/step - loss: 0.0868 - accuracy: 0.9972 - val_loss: 0.0610 - val_accuracy: 1.0000\n",
            "Epoch 6/8\n",
            "19/19 [==============================] - 8s 398ms/step - loss: 0.0703 - accuracy: 1.0000 - val_loss: 0.0601 - val_accuracy: 1.0000\n",
            "Epoch 7/8\n",
            "19/19 [==============================] - 7s 388ms/step - loss: 0.0608 - accuracy: 0.9935 - val_loss: 0.0878 - val_accuracy: 1.0000\n",
            "Epoch 8/8\n",
            "19/19 [==============================] - 7s 388ms/step - loss: 0.0794 - accuracy: 0.9915 - val_loss: 0.1287 - val_accuracy: 0.9722\n"
          ],
          "name": "stdout"
        }
      ]
    },
    {
      "cell_type": "markdown",
      "metadata": {
        "id": "b7SvJk-sH0_6"
      },
      "source": [
        "## Training Plots\n"
      ]
    },
    {
      "cell_type": "code",
      "metadata": {
        "colab": {
          "base_uri": "https://localhost:8080/",
          "height": 295
        },
        "id": "FhU3L36T1L1f",
        "outputId": "1e626807-3b91-47ec-8648-1cfec8e92192"
      },
      "source": [
        "########################\n",
        "\n",
        "# PLOT TRAINING LOSS\n",
        "loss = H.history['loss']\n",
        "val_loss = H.history['val_loss']\n",
        "\n",
        "plt.figure()\n",
        "plt.plot(H.epoch, loss, 'r', label='Training loss')\n",
        "plt.plot(H.epoch, val_loss, 'bo', label='Validation loss')\n",
        "plt.title('Training and Validation Loss')\n",
        "plt.xlabel('Epoch')\n",
        "plt.ylabel('Loss Value')\n",
        "plt.legend()\n",
        "plt.show()\n",
        "\n"
      ],
      "execution_count": null,
      "outputs": [
        {
          "output_type": "display_data",
          "data": {
            "image/png": "[encoded data removed]",
            "text/plain": [
              "<Figure size 432x288 with 1 Axes>"
            ]
          },
          "metadata": {
            "tags": [],
            "needs_background": "light"
          }
        }
      ]
    },
    {
      "cell_type": "markdown",
      "metadata": {
        "id": "1v6mX_QCpJlo"
      },
      "source": [
        "## Evaluate Model\n"
      ]
    },
    {
      "cell_type": "code",
      "metadata": {
        "colab": {
          "base_uri": "https://localhost:8080/"
        },
        "id": "NZ0L_AJ_85CV",
        "outputId": "b060d307-454b-4842-dd33-6fcfcccb4d8b"
      },
      "source": [
        "### Test Set Predictions\n",
        "print(\"Predictions...\")\n",
        "labels = list(test.columns)\n",
        "labels = labels[1:]\n",
        "print(\"Labels:\", labels)\n",
        "n = 6\n",
        "for i in range(0, n):\n",
        "    test_img = test_X[i * 10]\n",
        "    test_gt_label = test_Y[i * 10]\n",
        "    gt = []\n",
        "    for lidx, label_id in enumerate(test_gt_label):\n",
        "        if test_gt_label[lidx] == 1:\n",
        "            gt.append(labels[lidx])\n",
        "\n",
        "    prob = model.predict(test_img.reshape(1, IMG_HEIGHT, IMG_WIDTH, 3))\n",
        "    result = prob[0]\n",
        "\n",
        "    print(\"\\n--------Result:\")\n",
        "    print(\"GT:\", gt)\n",
        "    pred_labs = []\n",
        "    for lidx, pb in enumerate(result):\n",
        "        if pb >= 0.5:\n",
        "            pred_labs.append(labels[lidx])\n",
        "    print(\"Predicted labels:\", pred_labs)\n",
        "    for i in range(NLABELS):\n",
        "        print(\"{}\".format(labels[i])+\" ({:.3})\".format(prob[0, i]))\n",
        "    # plt.imshow(test_img)\n",
        "    # plt.axis(\"off\")\n",
        "    # str_title = \"GT:\" + str(gt) + \" Predicted:\" + str(prediction)\n",
        "    # plt.suptitle(str_title)\n",
        "    # plt.show()"
      ],
      "execution_count": null,
      "outputs": [
        {
          "output_type": "stream",
          "text": [
            "Predictions...\n",
            "Labels: ['AbdomenCT', 'BreastMRI', 'ChestCT', 'Abnormal']\n",
            "\n",
            "--------Result:\n",
            "GT: ['AbdomenCT']\n",
            "Predicted labels: ['AbdomenCT']\n",
            "AbdomenCT (0.912)\n",
            "BreastMRI (0.0269)\n",
            "ChestCT (0.0118)\n",
            "Abnormal (0.29)\n",
            "\n",
            "--------Result:\n",
            "GT: ['BreastMRI']\n",
            "Predicted labels: ['BreastMRI']\n",
            "AbdomenCT (0.000141)\n",
            "BreastMRI (0.999)\n",
            "ChestCT (4.31e-10)\n",
            "Abnormal (1.47e-05)\n",
            "\n",
            "--------Result:\n",
            "GT: ['ChestCT']\n",
            "Predicted labels: ['ChestCT', 'Abnormal']\n",
            "AbdomenCT (0.0138)\n",
            "BreastMRI (0.0029)\n",
            "ChestCT (0.988)\n",
            "Abnormal (0.524)\n",
            "\n",
            "--------Result:\n",
            "GT: ['ChestCT']\n",
            "Predicted labels: ['ChestCT', 'Abnormal']\n",
            "AbdomenCT (0.0146)\n",
            "BreastMRI (0.00242)\n",
            "ChestCT (0.983)\n",
            "Abnormal (0.645)\n",
            "\n",
            "--------Result:\n",
            "GT: ['ChestCT', 'Abnormal']\n",
            "Predicted labels: ['ChestCT', 'Abnormal']\n",
            "AbdomenCT (0.0331)\n",
            "BreastMRI (0.00733)\n",
            "ChestCT (0.963)\n",
            "Abnormal (0.681)\n",
            "\n",
            "--------Result:\n",
            "GT: ['ChestCT', 'Abnormal']\n",
            "Predicted labels: ['ChestCT', 'Abnormal']\n",
            "AbdomenCT (0.0195)\n",
            "BreastMRI (0.00499)\n",
            "ChestCT (0.973)\n",
            "Abnormal (0.667)\n"
          ],
          "name": "stdout"
        }
      ]
    }
  ]
}